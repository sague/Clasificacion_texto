{
 "cells": [
  {
   "cell_type": "code",
   "execution_count": 315,
   "metadata": {},
   "outputs": [],
   "source": [
    "from math import log\n",
    "from numpy import argmax, log, exp\n",
    "import os\n",
    "from random import shuffle"
   ]
  },
  {
   "cell_type": "code",
   "execution_count": 316,
   "metadata": {
    "scrolled": true
   },
   "outputs": [],
   "source": [
    "def elimina_simbolos(palabra):\n",
    "    palabra = \"\".join(k for k in palabra if k.isalpha())\n",
    "    return palabra.lower()\n",
    "\n",
    "def obtener_frecuencias(archivo, clase, clases, frecuencias= dict(), frecuencias_clases= dict()):\n",
    "    print(\"abriendo archivos \", archivo)\n",
    "    f=open(archivo)\n",
    "    print(\"cargando texto\")\n",
    "    libro=f.read()\n",
    "    print(\"generando lista palabras\")\n",
    "    palabras = libro.split() # este paso puede ser caro en archivos grandes\n",
    "\n",
    "    for i in palabras:\n",
    "        i = \"\".join(k for k in i if k.isalpha())\n",
    "        i = i.lower()\n",
    "        try:\n",
    "            frecuencias[i][clase] += 1 \n",
    "        except:\n",
    "            frecuencias[i] = dict((c, 0) for c in clases)\n",
    "            frecuencias[i][clase] += 1 \n",
    "            \n",
    "        try:\n",
    "            frecuencias_clases[clase] += 1\n",
    "        except:\n",
    "            frecuencias_clases[clase] = 0\n",
    "\n",
    "    return frecuencias, frecuencias_clases"
   ]
  },
  {
   "cell_type": "code",
   "execution_count": 317,
   "metadata": {},
   "outputs": [
    {
     "data": {
      "text/plain": [
       "range(5, 10)"
      ]
     },
     "execution_count": 317,
     "metadata": {},
     "output_type": "execute_result"
    }
   ],
   "source": [
    "range(10)[5:]"
   ]
  },
  {
   "cell_type": "code",
   "execution_count": 318,
   "metadata": {
    "scrolled": true
   },
   "outputs": [],
   "source": [
    "clases = [\"scifi\", \"love\", \"math\", \"biology\", \"astronomy\", \"cook\"]\n",
    "\n",
    "\n",
    "todos_los_libros = dict( (c, []) for c in clases )\n",
    "libros_train = dict( (c, []) for c in clases )\n",
    "libros_test = dict( (c, []) for c in clases )\n",
    "\n",
    "for clase in clases:\n",
    "    i = 1\n",
    "    while True:\n",
    "        archivo_txt = \"books/\"+clase+str(i)+\".txt\"\n",
    "        #\n",
    "        \n",
    "        if not os.path.exists(archivo_txt):\n",
    "            break\n",
    "        \n",
    "        todos_los_libros[clase].append(archivo_txt)\n",
    "        i += 1\n",
    "    \n",
    "    idx = list(range(1, 1+len(todos_los_libros[clase])))\n",
    "    shuffle(idx)\n",
    "    n = int(len(idx)*0.8)\n",
    "    libros_train[clase] = idx[:n]\n",
    "    libros_test[clase] = idx[n:]\n",
    "\n",
    "        "
   ]
  },
  {
   "cell_type": "code",
   "execution_count": 320,
   "metadata": {},
   "outputs": [
    {
     "name": "stdout",
     "output_type": "stream",
     "text": [
      "books/scifi4.txt\n",
      "abriendo archivos  books/scifi4.txt\n",
      "cargando texto\n",
      "generando lista palabras\n",
      "books/scifi13.txt\n",
      "abriendo archivos  books/scifi13.txt\n",
      "cargando texto\n",
      "generando lista palabras\n"
     ]
    },
    {
     "ename": "IndexError",
     "evalue": "list index out of range",
     "output_type": "error",
     "traceback": [
      "\u001b[0;31m---------------------------------------------------------------------------\u001b[0m",
      "\u001b[0;31mIndexError\u001b[0m                                Traceback (most recent call last)",
      "\u001b[0;32m<ipython-input-320-16414fde45e8>\u001b[0m in \u001b[0;36m<module>\u001b[0;34m()\u001b[0m\n\u001b[1;32m      4\u001b[0m \u001b[0;32mfor\u001b[0m \u001b[0mclase\u001b[0m \u001b[0;32min\u001b[0m \u001b[0mclases\u001b[0m\u001b[0;34m:\u001b[0m\u001b[0;34m\u001b[0m\u001b[0;34m\u001b[0m\u001b[0m\n\u001b[1;32m      5\u001b[0m     \u001b[0;32mfor\u001b[0m \u001b[0mi\u001b[0m \u001b[0;32min\u001b[0m \u001b[0mlibros_train\u001b[0m\u001b[0;34m[\u001b[0m\u001b[0mclase\u001b[0m\u001b[0;34m]\u001b[0m\u001b[0;34m:\u001b[0m\u001b[0;34m\u001b[0m\u001b[0;34m\u001b[0m\u001b[0m\n\u001b[0;32m----> 6\u001b[0;31m         \u001b[0marchivo_txt\u001b[0m \u001b[0;34m=\u001b[0m \u001b[0mtodos_los_libros\u001b[0m\u001b[0;34m[\u001b[0m\u001b[0mclase\u001b[0m\u001b[0;34m]\u001b[0m\u001b[0;34m[\u001b[0m\u001b[0mi\u001b[0m\u001b[0;34m]\u001b[0m\u001b[0;34m\u001b[0m\u001b[0;34m\u001b[0m\u001b[0m\n\u001b[0m\u001b[1;32m      7\u001b[0m         \u001b[0mprint\u001b[0m\u001b[0;34m(\u001b[0m\u001b[0marchivo_txt\u001b[0m\u001b[0;34m)\u001b[0m\u001b[0;34m\u001b[0m\u001b[0;34m\u001b[0m\u001b[0m\n\u001b[1;32m      8\u001b[0m         \u001b[0mfrecuencias\u001b[0m\u001b[0;34m,\u001b[0m \u001b[0mfrecuencias_clases\u001b[0m \u001b[0;34m=\u001b[0m \u001b[0mobtener_frecuencias\u001b[0m\u001b[0;34m(\u001b[0m\u001b[0marchivo_txt\u001b[0m\u001b[0;34m,\u001b[0m \u001b[0mclase\u001b[0m\u001b[0;34m,\u001b[0m\u001b[0mclases\u001b[0m\u001b[0;34m,\u001b[0m \u001b[0mfrecuencias\u001b[0m\u001b[0;34m,\u001b[0m \u001b[0mfrecuencias_clases\u001b[0m\u001b[0;34m)\u001b[0m\u001b[0;34m\u001b[0m\u001b[0;34m\u001b[0m\u001b[0m\n",
      "\u001b[0;31mIndexError\u001b[0m: list index out of range"
     ]
    }
   ],
   "source": [
    "frecuencias = dict()\n",
    "frecuencias_clases = dict()\n",
    "\n",
    "for clase in clases:\n",
    "    for i in libros_train[clase]:\n",
    "        archivo_txt = todos_los_libros[clase][i]\n",
    "        print(archivo_txt)\n",
    "        frecuencias, frecuencias_clases = obtener_frecuencias(archivo_txt, clase,clases, frecuencias, frecuencias_clases)"
   ]
  },
  {
   "cell_type": "code",
   "execution_count": null,
   "metadata": {},
   "outputs": [],
   "source": [
    "libros_train"
   ]
  },
  {
   "cell_type": "code",
   "execution_count": null,
   "metadata": {},
   "outputs": [],
   "source": [
    "def probabilidad(palabra, clase, frecuencias, frecuencas_clases):\n",
    "    try:\n",
    "        a = frecuencias[palabra][clase]\n",
    "    except:\n",
    "        a = 0\n",
    "    b = frecuencias_clases[clase] # frecuencias de la clase\n",
    "    return a/b"
   ]
  },
  {
   "cell_type": "code",
   "execution_count": null,
   "metadata": {},
   "outputs": [],
   "source": [
    "def clasifica(libro, frecuencias, frecuencias_clases, clases):\n",
    "\n",
    "    verosimilutudes = []\n",
    "\n",
    "    for clase in clases:\n",
    "        log_verosimilitud = 0.0\n",
    "\n",
    "        for palabra in libro:\n",
    "            palabra = elimina_simbolos(palabra)\n",
    "            log_verosimilitud += log(probabilidad(palabra, clase, frecuencias, frecuencias_clases)) #* 1 / len(clases)\n",
    "\n",
    "        verosimilutudes.append(log_verosimilitud)\n",
    "\n",
    "    return clases[argmax(verosimilutudes)], (verosimilutudes)"
   ]
  },
  {
   "cell_type": "markdown",
   "metadata": {},
   "source": [
    "## Clasificación de una frase o palabra\n",
    "\n",
    "Al entrenar nuestro algoritmo se realiza una prueba con una palabra o frase."
   ]
  },
  {
   "cell_type": "code",
   "execution_count": null,
   "metadata": {},
   "outputs": [],
   "source": [
    "clasifica_pred = \"positive definite matrices are stated and proved\".split()\n",
    "clase_pred = clasifica(clasifica_pred, frecuencias, frecuencias_clases, clases)"
   ]
  },
  {
   "cell_type": "code",
   "execution_count": null,
   "metadata": {},
   "outputs": [],
   "source": [
    "clasifica_pred"
   ]
  },
  {
   "cell_type": "code",
   "execution_count": null,
   "metadata": {
    "scrolled": true
   },
   "outputs": [],
   "source": [
    "frecuencias"
   ]
  },
  {
   "cell_type": "code",
   "execution_count": null,
   "metadata": {},
   "outputs": [],
   "source": [
    "print(clase_pred)"
   ]
  },
  {
   "cell_type": "markdown",
   "metadata": {},
   "source": [
    "## Predicción con el conjunto de prueba"
   ]
  },
  {
   "cell_type": "code",
   "execution_count": null,
   "metadata": {},
   "outputs": [],
   "source": [
    "libros_test"
   ]
  },
  {
   "cell_type": "code",
   "execution_count": null,
   "metadata": {
    "scrolled": false
   },
   "outputs": [],
   "source": [
    "predicciones = []\n",
    "for clase in clases:\n",
    "    for i in libros_test[clase]:\n",
    "        archivo_txt = todos_los_libros[clase][i-1]\n",
    "        libro_prueba = open(archivo_txt).read().split()\n",
    "        clase_pred,lv = clasifica(libro_prueba, frecuencias, frecuencias_clases, clases)\n",
    "        predicciones.append((clase, clase_pred))\n",
    "        print(\"Libro:\", archivo_txt, \"\\t\", clase, clase_pred, max(lv))\n"
   ]
  },
  {
   "cell_type": "code",
   "execution_count": null,
   "metadata": {},
   "outputs": [],
   "source": [
    "porcentaje_clasificación = sum( [ p[0] == p[1] for p in predicciones] ) / len(predicciones)\n",
    "print(\"porcentaje_clasificación =\", porcentaje_clasificación)"
   ]
  },
  {
   "cell_type": "code",
   "execution_count": null,
   "metadata": {},
   "outputs": [],
   "source": [
    "frecuencias_clases"
   ]
  },
  {
   "cell_type": "markdown",
   "metadata": {},
   "source": [
    "## Matriz de Confusión"
   ]
  },
  {
   "cell_type": "code",
   "execution_count": null,
   "metadata": {},
   "outputs": [],
   "source": [
    "matriz_confusion = [[ 0 for c in clases] for c in clases]\n",
    "\n",
    "for cc in predicciones:\n",
    "    real, prediccion = cc\n",
    "    j = clases.index(prediccion)\n",
    "    i = clases.index(real)\n",
    "    matriz_confusion[i][j] += 1\n",
    "    \n",
    "print(\"Matriz de confusion\")\n",
    "print(clases)\n",
    "for i in range(len(matriz_confusion)):\n",
    "    clase = clases[i]\n",
    "    print(clase[:4], matriz_confusion[i])\n",
    "print(\"porcentaje_clasificación =\", porcentaje_clasificación)"
   ]
  },
  {
   "cell_type": "markdown",
   "metadata": {},
   "source": [
    "## Predicción de un solo libro "
   ]
  },
  {
   "cell_type": "code",
   "execution_count": 1,
   "metadata": {},
   "outputs": [
    {
     "ename": "NameError",
     "evalue": "name 'todos_los_libros' is not defined",
     "output_type": "error",
     "traceback": [
      "\u001b[0;31m---------------------------------------------------------------------------\u001b[0m",
      "\u001b[0;31mNameError\u001b[0m                                 Traceback (most recent call last)",
      "\u001b[0;32m<ipython-input-1-96a18dd24f6c>\u001b[0m in \u001b[0;36m<module>\u001b[0;34m()\u001b[0m\n\u001b[1;32m      1\u001b[0m \u001b[0mpredicciones\u001b[0m \u001b[0;34m=\u001b[0m \u001b[0;34m[\u001b[0m\u001b[0;34m]\u001b[0m\u001b[0;34m\u001b[0m\u001b[0;34m\u001b[0m\u001b[0m\n\u001b[1;32m      2\u001b[0m \u001b[0mclase\u001b[0m \u001b[0;34m=\u001b[0m \u001b[0;34m'cook'\u001b[0m\u001b[0;34m\u001b[0m\u001b[0;34m\u001b[0m\u001b[0m\n\u001b[0;32m----> 3\u001b[0;31m \u001b[0marchivo_txt\u001b[0m \u001b[0;34m=\u001b[0m \u001b[0mtodos_los_libros\u001b[0m\u001b[0;34m[\u001b[0m\u001b[0mclase\u001b[0m\u001b[0;34m]\u001b[0m\u001b[0;34m[\u001b[0m\u001b[0mi\u001b[0m\u001b[0;34m]\u001b[0m\u001b[0;34m\u001b[0m\u001b[0;34m\u001b[0m\u001b[0m\n\u001b[0m\u001b[1;32m      4\u001b[0m \u001b[0mlibro_prueba\u001b[0m \u001b[0;34m=\u001b[0m \u001b[0mopen\u001b[0m\u001b[0;34m(\u001b[0m\u001b[0marchivo_txt\u001b[0m\u001b[0;34m)\u001b[0m\u001b[0;34m.\u001b[0m\u001b[0mread\u001b[0m\u001b[0;34m(\u001b[0m\u001b[0;34m)\u001b[0m\u001b[0;34m.\u001b[0m\u001b[0msplit\u001b[0m\u001b[0;34m(\u001b[0m\u001b[0;34m)\u001b[0m\u001b[0;34m\u001b[0m\u001b[0;34m\u001b[0m\u001b[0m\n\u001b[1;32m      5\u001b[0m \u001b[0mclase_pred\u001b[0m\u001b[0;34m,\u001b[0m\u001b[0mlv\u001b[0m \u001b[0;34m=\u001b[0m \u001b[0mclasifica\u001b[0m\u001b[0;34m(\u001b[0m\u001b[0mlibro_prueba\u001b[0m\u001b[0;34m,\u001b[0m \u001b[0mfrecuencias\u001b[0m\u001b[0;34m,\u001b[0m \u001b[0mfrecuencas_clases\u001b[0m\u001b[0;34m,\u001b[0m \u001b[0mclases\u001b[0m\u001b[0;34m)\u001b[0m\u001b[0;34m\u001b[0m\u001b[0;34m\u001b[0m\u001b[0m\n",
      "\u001b[0;31mNameError\u001b[0m: name 'todos_los_libros' is not defined"
     ]
    }
   ],
   "source": [
    "predicciones = []\n",
    "clase = 'cook'\n",
    "archivo_txt = todos_los_libros[clase][i]\n",
    "libro_prueba = open(archivo_txt).read().split()\n",
    "clase_pred,lv = clasifica(libro_prueba, frecuencias, frecuencas_clases, clases)\n",
    "predicciones.append((clase, clase_pred))"
   ]
  },
  {
   "cell_type": "code",
   "execution_count": null,
   "metadata": {},
   "outputs": [],
   "source": [
    "archivo_txt"
   ]
  },
  {
   "cell_type": "code",
   "execution_count": null,
   "metadata": {},
   "outputs": [],
   "source": [
    "print(clase, clase_pred, max(lv))"
   ]
  },
  {
   "cell_type": "code",
   "execution_count": null,
   "metadata": {},
   "outputs": [],
   "source": [
    "porcentaje_clasificación_libro= sum( [ p[0] == p[1] for p in predicciones] ) / len(predicciones)\n",
    "print(\"porcentaje_clasificación =\", porcentaje_clasificación_libro)"
   ]
  }
 ],
 "metadata": {
  "kernelspec": {
   "display_name": "Python 3",
   "language": "python",
   "name": "python3"
  },
  "language_info": {
   "codemirror_mode": {
    "name": "ipython",
    "version": 3
   },
   "file_extension": ".py",
   "mimetype": "text/x-python",
   "name": "python",
   "nbconvert_exporter": "python",
   "pygments_lexer": "ipython3",
   "version": "3.6.9"
  }
 },
 "nbformat": 4,
 "nbformat_minor": 2
}
