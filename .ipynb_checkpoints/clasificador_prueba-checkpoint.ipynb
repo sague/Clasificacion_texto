{
 "cells": [
  {
   "cell_type": "code",
   "execution_count": 1,
   "metadata": {},
   "outputs": [],
   "source": [
    "from math import log\n",
    "from numpy import argmax, log\n",
    "import os\n",
    "from random import shuffle\n"
   ]
  },
  {
   "cell_type": "code",
   "execution_count": 2,
   "metadata": {
    "scrolled": true
   },
   "outputs": [],
   "source": [
    "def elimina_simbolos(palabra):\n",
    "    palabra = \"\".join(k for k in palabra if k.isalpha())\n",
    "    return palabra.lower()\n",
    "\n",
    "def obtener_frequencias(archivo, clase, clases, frecuencias= dict(), frecuencias_clases= dict()):\n",
    "    print(\"abriendo archivos \", archivo)\n",
    "    f=open(archivo)\n",
    "    print(\"cargando texto\")\n",
    "    libro=f.read()\n",
    "    print(\"generando lista palabras\")\n",
    "    palabras = libro.split() # este paso puede ser caro en archivos grandes\n",
    "\n",
    "    print(\"contando palabras\")\n",
    "    for i in palabras:\n",
    "        i = \"\".join(k for k in i if k.isalpha())\n",
    "        i = i.lower()\n",
    "        try:\n",
    "            frecuencias[i][clase] += 1 \n",
    "        except:\n",
    "            frecuencias[i] = dict((c, 0) for c in clases)\n",
    "            frecuencias[i][clase] += 1 \n",
    "            \n",
    "        try:\n",
    "            frecuencias_clases[clase] += 1\n",
    "        except:\n",
    "            frecuencias_clases[clase] = 1\n",
    "\n",
    "    return frecuencias, frecuencias_clases\n"
   ]
  },
  {
   "cell_type": "code",
   "execution_count": 3,
   "metadata": {},
   "outputs": [
    {
     "data": {
      "text/plain": [
       "range(5, 10)"
      ]
     },
     "execution_count": 3,
     "metadata": {},
     "output_type": "execute_result"
    }
   ],
   "source": [
    "range(10)[5:]"
   ]
  },
  {
   "cell_type": "code",
   "execution_count": 4,
   "metadata": {
    "scrolled": true
   },
   "outputs": [],
   "source": [
    "clases = [\"scifi\", \"love\", \"math\", \"biology\", \"astronomy\", \"cook\"]\n",
    "\n",
    "\n",
    "todos_los_libros = dict( (c, []) for c in clases )\n",
    "libros_train = dict( (c, []) for c in clases )\n",
    "libros_test = dict( (c, []) for c in clases )\n",
    "\n",
    "for clase in clases:\n",
    "    i = 1\n",
    "    while True:\n",
    "        archivo_txt = \"books/\"+clase+str(i)+\".txt\"\n",
    "        #\n",
    "        \n",
    "        if not os.path.exists(archivo_txt):\n",
    "            break\n",
    "        \n",
    "        todos_los_libros[clase].append( archivo_txt)\n",
    "        i += 1\n",
    "    \n",
    "    idx = list(range(1, 1+len(todos_los_libros[clase])))\n",
    "    shuffle(idx)\n",
    "    n = int(len(idx)*0.8)\n",
    "    libros_train[clase] = idx[:n]\n",
    "    libros_test[clase] = idx[n:]\n",
    "\n",
    "        "
   ]
  },
  {
   "cell_type": "code",
   "execution_count": null,
   "metadata": {
    "scrolled": true
   },
   "outputs": [
    {
     "data": {
      "text/plain": [
       "({'astronomy': [1, 11, 6, 8, 5, 12, 3, 7, 10, 14, 9, 13],\n",
       "  'biology': [12, 14, 13, 7, 4, 10, 11, 2, 16, 15, 1, 9],\n",
       "  'cook': [6, 11, 5, 10, 3, 9, 1, 13, 12, 16, 4, 8],\n",
       "  'love': [7, 5, 2, 1, 3, 4],\n",
       "  'math': [7, 5, 10, 9, 4, 6, 1, 8],\n",
       "  'scifi': [6, 2, 11, 14, 10, 9, 13, 5, 4, 1, 15, 8]},\n",
       " {'astronomy': [2, 15, 4, 16],\n",
       "  'biology': [5, 3, 6, 8],\n",
       "  'cook': [2, 15, 7, 14],\n",
       "  'love': [6, 8],\n",
       "  'math': [2, 3],\n",
       "  'scifi': [3, 7, 12]})"
      ]
     },
     "execution_count": 5,
     "metadata": {},
     "output_type": "execute_result"
    }
   ],
   "source": [
    "libros_train,libros_test"
   ]
  },
  {
   "cell_type": "code",
   "execution_count": null,
   "metadata": {},
   "outputs": [
    {
     "name": "stdout",
     "output_type": "stream",
     "text": [
      "books/scifi6.txt\n",
      "abriendo archivos  books/scifi6.txt\n",
      "cargando texto\n",
      "generando lista palabras\n",
      "contando palabras\n",
      "books/scifi2.txt\n",
      "abriendo archivos  books/scifi2.txt\n",
      "cargando texto\n",
      "generando lista palabras\n",
      "contando palabras\n",
      "books/scifi11.txt\n",
      "abriendo archivos  books/scifi11.txt\n",
      "cargando texto\n",
      "generando lista palabras\n",
      "contando palabras\n",
      "books/scifi14.txt\n",
      "abriendo archivos  books/scifi14.txt\n",
      "cargando texto\n",
      "generando lista palabras\n",
      "contando palabras\n"
     ]
    }
   ],
   "source": [
    "frecuencias = dict()\n",
    "frecuencas_clases = dict()\n",
    "\n",
    "for clase in clases:\n",
    "    for i in libros_train[clase]:\n",
    "        archivo_txt = todos_los_libros[clase][i-1]\n",
    "        print(archivo_txt)\n",
    "        frecuencias, frecuencas_clases = obtener_frequencias(archivo_txt, clase,clases, frecuencias, frecuencas_clases)"
   ]
  },
  {
   "cell_type": "code",
   "execution_count": null,
   "metadata": {},
   "outputs": [],
   "source": [
    "frecuencas_clases"
   ]
  },
  {
   "cell_type": "code",
   "execution_count": null,
   "metadata": {},
   "outputs": [],
   "source": [
    "frecuencias"
   ]
  },
  {
   "cell_type": "code",
   "execution_count": null,
   "metadata": {},
   "outputs": [],
   "source": [
    "def probabilidad(palabra, clase, frecuencias, frecuencias_clases):\n",
    "    try:\n",
    "        a = frecuencias[palabra][clase]\n",
    "    except:\n",
    "        a = 1.0\n",
    "    \n",
    "    b = frecuencias_clases[clase] # frecuencias de la clase\n",
    "    a = a if a>0 else 1\n",
    "    \n",
    "    return a/b\n",
    "\n"
   ]
  },
  {
   "cell_type": "code",
   "execution_count": null,
   "metadata": {},
   "outputs": [],
   "source": [
    "def clasifica(libro, frecuencias, frecuencias_clases, clases):\n",
    "\n",
    "    verosimilutudes = []\n",
    "\n",
    "    for clase in clases:\n",
    "        log_verosimilitud = 0.0\n",
    "\n",
    "        for palabra in libro:\n",
    "            palabra = elimina_simbolos(palabra)\n",
    "            p = probabilidad(palabra, clase, frecuencias, frecuencias_clases)\n",
    "            log_verosimilitud += log(p) #* 1 / len(clases)\n",
    "            \n",
    "        verosimilutudes.append(log_verosimilitud)\n",
    "\n",
    "    return clases[argmax(verosimilutudes)], (verosimilutudes)\n",
    "\n",
    "\n",
    "clasificame_esta = \"positive definite matrices are stated and proved\".split()\n",
    "clase_pred = clasifica(clasificame_esta, frecuencias, frecuencas_clases, clases)\n",
    "\n",
    "\n",
    "print(clase_pred)"
   ]
  },
  {
   "cell_type": "code",
   "execution_count": null,
   "metadata": {},
   "outputs": [],
   "source": []
  },
  {
   "cell_type": "code",
   "execution_count": null,
   "metadata": {
    "scrolled": true
   },
   "outputs": [],
   "source": [
    "predicciones = []\n",
    "for clase in clases:\n",
    "    for i in libros_test[clase]:\n",
    "        archivo_txt = todos_los_libros[clase][i-1]\n",
    "        libro_prueba = open(archivo_txt).read().split()\n",
    "        clase_pred,lv = clasifica(libro_prueba, frecuencias, frecuencas_clases, clases)\n",
    "        predicciones.append((clase, clase_pred))\n",
    "        print(clase, clase_pred, max(lv))\n"
   ]
  },
  {
   "cell_type": "code",
   "execution_count": null,
   "metadata": {},
   "outputs": [],
   "source": [
    "porcentaje_clasificación = sum( [ p[0] == p[1] for p in predicciones] ) / len(predicciones)\n",
    "print(\"porcentaje_clasificación =\", porcentaje_clasificación)"
   ]
  },
  {
   "cell_type": "code",
   "execution_count": null,
   "metadata": {},
   "outputs": [],
   "source": []
  },
  {
   "cell_type": "markdown",
   "metadata": {},
   "source": [
    "|   | rojo | amarillo | suma|\n",
    ":---|------|----------|--:\n",
    "| perro | 5 | 6| 11 |\n",
    "| gato  | 7 | 8| 15 |\n",
    "| suma | 13 | 14 | 39|\n",
    "\n",
    "$P(x = gato | y = amarillo) = ?$"
   ]
  },
  {
   "cell_type": "code",
   "execution_count": null,
   "metadata": {},
   "outputs": [],
   "source": [
    "matriz_confusion = [[ 0 for c in clases] for c in clases]\n",
    "\n",
    "for cc in predicciones:\n",
    "    real, prediccion = cc\n",
    "    j = clases.index(prediccion)\n",
    "    i = clases.index(real)\n",
    "    matriz_confusion[i][j] += 1\n",
    "    \n",
    "print(\"Matriz de confusion\")\n",
    "for i in range(len(matriz_confusion)):\n",
    "    clase = clases[i]\n",
    "    print(clase[:4], matriz_confusion[i])\n",
    "print(\"porcentaje_clasificación =\", porcentaje_clasificación)"
   ]
  },
  {
   "cell_type": "code",
   "execution_count": null,
   "metadata": {},
   "outputs": [],
   "source": []
  }
 ],
 "metadata": {
  "@webio": {
   "lastCommId": null,
   "lastKernelId": null
  },
  "kernelspec": {
   "display_name": "Python 3",
   "language": "python",
   "name": "python3"
  },
  "language_info": {
   "codemirror_mode": {
    "name": "ipython",
    "version": 3
   },
   "file_extension": ".py",
   "mimetype": "text/x-python",
   "name": "python",
   "nbconvert_exporter": "python",
   "pygments_lexer": "ipython3",
   "version": "3.6.9"
  }
 },
 "nbformat": 4,
 "nbformat_minor": 2
}
